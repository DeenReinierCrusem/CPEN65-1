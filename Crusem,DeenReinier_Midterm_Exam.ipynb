{
  "nbformat": 4,
  "nbformat_minor": 0,
  "metadata": {
    "colab": {
      "provenance": [],
      "authorship_tag": "ABX9TyPIiGiE8DMBJbhGxcTCAE6B",
      "include_colab_link": true
    },
    "kernelspec": {
      "name": "python3",
      "display_name": "Python 3"
    },
    "language_info": {
      "name": "python"
    }
  },
  "cells": [
    {
      "cell_type": "markdown",
      "metadata": {
        "id": "view-in-github",
        "colab_type": "text"
      },
      "source": [
        "<a href=\"https://colab.research.google.com/github/DeenReinierCrusem/CPEN65-1/blob/main/Crusem%2CDeenReinier_Midterm_Exam.ipynb\" target=\"_parent\"><img src=\"https://colab.research.google.com/assets/colab-badge.svg\" alt=\"Open In Colab\"/></a>"
      ]
    },
    {
      "cell_type": "markdown",
      "source": [
        "#A. Methodology"
      ],
      "metadata": {
        "id": "fujvtvDAXhKu"
      }
    },
    {
      "cell_type": "code",
      "execution_count": 11,
      "metadata": {
        "id": "DR5MmPY4UKSV",
        "outputId": "0656e532-b019-4bb6-c648-b303328dc046",
        "colab": {
          "base_uri": "https://localhost:8080/"
        }
      },
      "outputs": [
        {
          "output_type": "stream",
          "name": "stdout",
          "text": [
            "0 1\n",
            "1 2\n",
            "2 3\n",
            "3 4\n",
            "4 5\n",
            "5 6\n",
            "6 7\n",
            "7 8\n",
            "8 9\n",
            "9 10\n",
            "Sum of the 10 intgersers in the array = 55\n"
          ]
        }
      ],
      "source": [
        "#1. Write a Python program to create an array of 10 integers and display the array items. Access individual elements throught indexes and compute for the sum.\n",
        "from array import *\n",
        "\n",
        "numbers=array('i',[1,2,3,4,5,6,7,8,9,10])\n",
        "for index, val in enumerate(numbers):\n",
        "  print(index, val)\n",
        "\n",
        "numbers_sum = (sum(numbers))\n",
        "print(f'Sum of the 10 intgersers in the array = {numbers_sum}')"
      ]
    },
    {
      "cell_type": "code",
      "source": [
        "#2. Write a Python program to append new item to the end of the array. Original array: numbers=[1,2,3,4,5,6,7,8,9,10]\n",
        "from array import *\n",
        "\n",
        "numbers=array('i',[1,2,3,4,5,6,7,8,9,10])\n",
        "print(f'original array: {numbers}')\n",
        "numbers.append(11)\n",
        "print(f'array with new item at the end: {numbers}')"
      ],
      "metadata": {
        "colab": {
          "base_uri": "https://localhost:8080/"
        },
        "id": "cSQutkVaXl3K",
        "outputId": "fad1e0dc-efd3-4cc6-a1d5-6bdd0f74354f"
      },
      "execution_count": 7,
      "outputs": [
        {
          "output_type": "stream",
          "name": "stdout",
          "text": [
            "original array: array('i', [1, 2, 3, 4, 5, 6, 7, 8, 9, 10])\n",
            "array with new item at the end: array('i', [1, 2, 3, 4, 5, 6, 7, 8, 9, 10, 11])\n"
          ]
        }
      ]
    },
    {
      "cell_type": "code",
      "source": [
        "#3. Write a Python program to insert a new item before the last element in an existing array. Original array: numbers=[1,2,3,4,5,6,7,8,9,10]\n",
        "from array import *\n",
        "\n",
        "numbers=array('i',[1,2,3,4,5,6,7,8,9,10])\n",
        "print(f'original array: {numbers}')\n",
        "numbers.insert(-1,100)\n",
        "print(f'array with new item before the last element: {numbers}')"
      ],
      "metadata": {
        "colab": {
          "base_uri": "https://localhost:8080/"
        },
        "id": "ejsXJN2jXl6-",
        "outputId": "e56b090c-db2b-42d4-c213-8914e5317533"
      },
      "execution_count": 12,
      "outputs": [
        {
          "output_type": "stream",
          "name": "stdout",
          "text": [
            "original array: array('i', [1, 2, 3, 4, 5, 6, 7, 8, 9, 10])\n",
            "array with new item before the last element: array('i', [1, 2, 3, 4, 5, 6, 7, 8, 9, 100, 10])\n"
          ]
        }
      ]
    },
    {
      "cell_type": "code",
      "source": [
        "#4. Write a Python program to reverse the order of the items in the array. Original array: numbers=[1,2,3,4,5]\n",
        "from array import *\n",
        "\n",
        "numbers=array('i',[1,2,3,4,5])\n",
        "print(f'original array: {numbers}')\n",
        "numbers.reverse()\n",
        "print(f'reversed order of the array: {numbers}')"
      ],
      "metadata": {
        "colab": {
          "base_uri": "https://localhost:8080/"
        },
        "id": "skLsie_bXl_1",
        "outputId": "584da025-bcbd-4db7-e348-87ba12ddb783"
      },
      "execution_count": 10,
      "outputs": [
        {
          "output_type": "stream",
          "name": "stdout",
          "text": [
            "original array: array('i', [1, 2, 3, 4, 5])\n",
            "reversed order of the array: array('i', [5, 4, 3, 2, 1])\n"
          ]
        }
      ]
    },
    {
      "cell_type": "code",
      "source": [
        "#5. Let A be an array of size n≥2 containing inetergs from 1 to n-1, inclusive, with exactly one repeated. Create an algorithm for finding the inetger in A that is repeated\n",
        "arr = array('i',[1,1,2,3])\n",
        "arr2 = []\n",
        "\n",
        "for i in arr:\n",
        "  if i not in arr2:\n",
        "    arr2.append(i)\n",
        "  else:\n",
        "    print(f'the only repeated number is: {i}')"
      ],
      "metadata": {
        "colab": {
          "base_uri": "https://localhost:8080/"
        },
        "id": "-UK0kb5UX2kI",
        "outputId": "475474fe-499f-4b6e-e8d6-ce4ffdeba89d"
      },
      "execution_count": 18,
      "outputs": [
        {
          "output_type": "stream",
          "name": "stdout",
          "text": [
            "the only repeated number is: 1\n"
          ]
        }
      ]
    }
  ]
}