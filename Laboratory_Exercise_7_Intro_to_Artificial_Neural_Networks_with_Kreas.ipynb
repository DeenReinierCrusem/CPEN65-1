{
  "nbformat": 4,
  "nbformat_minor": 0,
  "metadata": {
    "colab": {
      "provenance": [],
      "include_colab_link": true
    },
    "kernelspec": {
      "name": "python3",
      "display_name": "Python 3"
    },
    "language_info": {
      "name": "python"
    }
  },
  "cells": [
    {
      "cell_type": "markdown",
      "metadata": {
        "id": "view-in-github",
        "colab_type": "text"
      },
      "source": [
        "<a href=\"https://colab.research.google.com/github/DeenReinierCrusem/CPEN65-1/blob/main/Laboratory_Exercise_7_Intro_to_Artificial_Neural_Networks_with_Kreas.ipynb\" target=\"_parent\"><img src=\"https://colab.research.google.com/assets/colab-badge.svg\" alt=\"Open In Colab\"/></a>"
      ]
    },
    {
      "cell_type": "markdown",
      "source": [
        "##Laboratory Exercise 7: Intro to Artificial Neural Networks with Kreas"
      ],
      "metadata": {
        "id": "wJR3HTNvfaJB"
      }
    },
    {
      "cell_type": "code",
      "source": [
        "import tensorflow as tf\n",
        "from tensorflow import keras\n",
        "from tensorflow.keras.callbacks import ModelCheckpoint, EarlyStopping, TensorBoard\n",
        "import numpy as np\n",
        "\n",
        "# Load MNIST dataset\n",
        "mnist = keras.datasets.mnist\n",
        "(X_train, y_train), (X_test, y_test) = mnist.load_data()\n",
        "\n",
        "# Preprocess data\n",
        "X_train = X_train.astype('float32') / 255.0\n",
        "X_test = X_test.astype('float32') / 255.0\n",
        "\n",
        "# Define the model architecture\n",
        "model = keras.models.Sequential([\n",
        "    keras.layers.Flatten(input_shape=[28, 28]),\n",
        "    keras.layers.Dense(300, activation='relu'),\n",
        "    keras.layers.Dense(100, activation='relu'),\n",
        "    keras.layers.Dense(10, activation='softmax')\n",
        "])\n",
        "\n",
        "# Compile the model\n",
        "model.compile(optimizer='adam', loss='sparse_categorical_crossentropy', metrics=['accuracy'])\n",
        "\n",
        "# Define callbacks\n",
        "checkpoint_cb = ModelCheckpoint(\"mnist_model.h5\", save_best_only=True)\n",
        "early_stopping_cb = EarlyStopping(patience=10, restore_best_weights=True)\n",
        "tensorboard_cb = TensorBoard(log_dir=\"./logs\", histogram_freq=1)\n",
        "\n",
        "# Train the model\n",
        "history = model.fit(X_train, y_train, epochs=50, validation_split=0.2,\n",
        "                    callbacks=[checkpoint_cb, early_stopping_cb, tensorboard_cb])\n",
        "\n",
        "# Load the best model saved during training\n",
        "model = keras.models.load_model(\"mnist_model.h5\")\n",
        "\n",
        "# Evaluate the model on the test set\n",
        "test_loss, test_accuracy = model.evaluate(X_test, y_test)\n",
        "print(\"Test loss:\", test_loss)\n",
        "print(\"Test accuracy:\", test_accuracy)\n"
      ],
      "metadata": {
        "colab": {
          "base_uri": "https://localhost:8080/"
        },
        "id": "zasQq6D8_wd1",
        "outputId": "0d71521d-acc2-4a29-aad8-8aed2cd652ec"
      },
      "execution_count": null,
      "outputs": [
        {
          "output_type": "stream",
          "name": "stdout",
          "text": [
            "Downloading data from https://storage.googleapis.com/tensorflow/tf-keras-datasets/mnist.npz\n",
            "11490434/11490434 [==============================] - 0s 0us/step\n",
            "Epoch 1/50\n",
            "1500/1500 [==============================] - 13s 8ms/step - loss: 0.2289 - accuracy: 0.9319 - val_loss: 0.1193 - val_accuracy: 0.9657\n",
            "Epoch 2/50\n",
            "1500/1500 [==============================] - 9s 6ms/step - loss: 0.0924 - accuracy: 0.9715 - val_loss: 0.0981 - val_accuracy: 0.9708\n",
            "Epoch 3/50\n",
            "1500/1500 [==============================] - 7s 5ms/step - loss: 0.0627 - accuracy: 0.9810 - val_loss: 0.0925 - val_accuracy: 0.9729\n",
            "Epoch 4/50\n",
            "1500/1500 [==============================] - 9s 6ms/step - loss: 0.0462 - accuracy: 0.9855 - val_loss: 0.0846 - val_accuracy: 0.9762\n",
            "Epoch 5/50\n",
            "1500/1500 [==============================] - 8s 5ms/step - loss: 0.0365 - accuracy: 0.9879 - val_loss: 0.0878 - val_accuracy: 0.9775\n",
            "Epoch 6/50\n",
            "1500/1500 [==============================] - 7s 5ms/step - loss: 0.0285 - accuracy: 0.9904 - val_loss: 0.0921 - val_accuracy: 0.9768\n",
            "Epoch 7/50\n",
            "1500/1500 [==============================] - 9s 6ms/step - loss: 0.0261 - accuracy: 0.9915 - val_loss: 0.0991 - val_accuracy: 0.9743\n",
            "Epoch 8/50\n",
            "1500/1500 [==============================] - 8s 5ms/step - loss: 0.0205 - accuracy: 0.9931 - val_loss: 0.1053 - val_accuracy: 0.9751\n",
            "Epoch 9/50\n",
            "1500/1500 [==============================] - 8s 5ms/step - loss: 0.0171 - accuracy: 0.9945 - val_loss: 0.0936 - val_accuracy: 0.9778\n",
            "Epoch 10/50\n",
            "1500/1500 [==============================] - 8s 6ms/step - loss: 0.0168 - accuracy: 0.9942 - val_loss: 0.0979 - val_accuracy: 0.9788\n",
            "Epoch 11/50\n",
            "1500/1500 [==============================] - 7s 5ms/step - loss: 0.0141 - accuracy: 0.9950 - val_loss: 0.1236 - val_accuracy: 0.9746\n",
            "Epoch 12/50\n",
            "1500/1500 [==============================] - 8s 6ms/step - loss: 0.0140 - accuracy: 0.9953 - val_loss: 0.1213 - val_accuracy: 0.9751\n",
            "Epoch 13/50\n",
            "1500/1500 [==============================] - 8s 6ms/step - loss: 0.0133 - accuracy: 0.9958 - val_loss: 0.1137 - val_accuracy: 0.9778\n",
            "Epoch 14/50\n",
            "1500/1500 [==============================] - 7s 5ms/step - loss: 0.0125 - accuracy: 0.9960 - val_loss: 0.1096 - val_accuracy: 0.9802\n",
            "313/313 [==============================] - 1s 3ms/step - loss: 0.0816 - accuracy: 0.9755\n",
            "Test loss: 0.08162926137447357\n",
            "Test accuracy: 0.9754999876022339\n"
          ]
        }
      ]
    }
  ]
}