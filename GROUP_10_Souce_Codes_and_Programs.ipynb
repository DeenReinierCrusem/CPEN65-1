{
  "nbformat": 4,
  "nbformat_minor": 0,
  "metadata": {
    "colab": {
      "provenance": [],
      "include_colab_link": true
    },
    "kernelspec": {
      "name": "python3",
      "display_name": "Python 3"
    },
    "language_info": {
      "name": "python"
    }
  },
  "cells": [
    {
      "cell_type": "markdown",
      "metadata": {
        "id": "view-in-github",
        "colab_type": "text"
      },
      "source": [
        "<a href=\"https://colab.research.google.com/github/DeenReinierCrusem/CPEN65-1/blob/main/GROUP_10_Souce_Codes_and_Programs.ipynb\" target=\"_parent\"><img src=\"https://colab.research.google.com/assets/colab-badge.svg\" alt=\"Open In Colab\"/></a>"
      ]
    },
    {
      "cell_type": "code",
      "source": [
        "import pandas as pd\n",
        "import matplotlib.pyplot as plt\n",
        "\n",
        "cap_vs_farm_time = captured_vs_farmed[['Year', 'Aquaculture_production_(metric_tons)', 'Capture_fisheries_production_(metric_tons)']]\n",
        "\n",
        "cap_vs_farm_time_pivoted = cap_vs_farm_time.melt(id_vars=\"Year\", var_name=\"Aquaculture/Capture\", value_name=\"Metric Tons\")\n",
        "cap_vs_farm_time_pivoted['Aquaculture/Capture'] = cap_vs_farm_time_pivoted['Aquaculture/Capture'].replace(\"Capture_fisheries_production_(metric_tons)\", \"Captured\")\n",
        "cap_vs_farm_time_pivoted['Aquaculture/Capture'] = cap_vs_farm_time_pivoted['Aquaculture/Capture'].replace(\"Aquaculture_production_(metric_tons)\", \"Aquaculture\")\n",
        "\n",
        "df = cap_vs_farm_time_pivoted.groupby(['Year', 'Aquaculture/Capture']).sum()['Metric Tons']\n",
        "df.unstack().plot(marker=\"o\")\n",
        "\n",
        "plt.xticks(rotation=45)\n",
        "plt.title('Aquaculture vs Capture Trend Timeline')\n",
        "plt.xlabel('Year')\n",
        "plt.ylabel('Metric Tons')\n",
        "plt.grid(True)\n",
        "x = [1960, 1965, 1970, 1975, 1980, 1985, 1990, 1995, 2000, 2005, 2010, 2015, 2020]\n",
        "plt.xticks(x, x)\n",
        "\n",
        "plt.show()\n"
      ],
      "metadata": {
        "id": "Upcd0p-YpT_z"
      },
      "execution_count": null,
      "outputs": []
    },
    {
      "cell_type": "code",
      "source": [
        "import pandas as pd\n",
        "import matplotlib.pyplot as plt\n",
        "\n",
        "cap_vs_farm_time = captured_vs_farmed[['Year', 'Aquaculture_production_(metric_tons)', 'Capture_fisheries_production_(metric_tons)']]\n",
        "\n",
        "cap_vs_farm_time_pivoted = cap_vs_farm_time.melt(id_vars=\"Year\", var_name=\"Aquaculture/Capture\", value_name=\"Metric Tons\")\n",
        "cap_vs_farm_time_pivoted['Aquaculture/Capture'] = cap_vs_farm_time_pivoted['Aquaculture/Capture'].replace(\"Capture_fisheries_production_(metric_tons)\", \"Captured\")\n",
        "cap_vs_farm_time_pivoted['Aquaculture/Capture'] = cap_vs_farm_time_pivoted['Aquaculture/Capture'].replace(\"Aquaculture_production_(metric_tons)\", \"Aquaculture\")\n",
        "\n",
        "df = cap_vs_farm_time_pivoted.groupby(['Year', 'Aquaculture/Capture']).sum()['Metric Tons']\n",
        "df.unstack().plot(marker=\"o\")\n",
        "\n",
        "plt.xticks(rotation=45)\n",
        "plt.title('Aquaculture vs Capture Trend Timeline')\n",
        "plt.xlabel('Year')\n",
        "plt.ylabel('Metric Tons')\n",
        "plt.grid(True)\n",
        "x = [1960, 1965, 1970, 1975, 1980, 1985, 1990, 1995, 2000, 2005, 2010, 2015, 2020]\n",
        "plt.xticks(x, x)\n",
        "\n",
        "plt.show()\n"
      ],
      "metadata": {
        "id": "PCCMKPNQpCLZ"
      },
      "execution_count": null,
      "outputs": []
    },
    {
      "cell_type": "code",
      "execution_count": null,
      "metadata": {
        "id": "_usTe5t7n8rR"
      },
      "outputs": [],
      "source": [
        "cap_vs_farm_time = captured_vs_farmed[['Year', 'Aquaculture_production_(metric_tons)', 'Capture_fisheries_production_(metric_tons)']]\n",
        "\n",
        "cap_vs_farm_time_pivoted = cap_vs_farm_time.melt(id_vars = \"Year\", var_name = \"Aquaculture/Capture\", value_name = \"Metric Tones\")\n",
        "cap_vs_farm_time_pivoted['Aquaculture/Capture'] = cap_vs_farm_time_pivoted['Aquaculture/Capture'].replace(\"Capture_fisheries_production_(metric_tons)\", \"Captured\")\n",
        "cap_vs_farm_time_pivoted['Aquaculture/Capture'] = cap_vs_farm_time_pivoted['Aquaculture/Capture'].replace(\"Aquaculture_production_(metric_tons)\", \"Aquaculture\")\n",
        "\n",
        "\n",
        "\n",
        "df = cap_vs_farm_time_pivoted.groupby(['Year', 'Aquaculture/Capture']).sum()['Metric Tones']\n",
        "df.unstack().plot(marker=\"o\")\n",
        "mtpl.pyplot.xticks(rotation=45)\n",
        "mtpl.pyplot.title('Aquaculture vs Capture Trend Timeline')\n",
        "mtpl.pyplot.xlabel('Year')\n",
        "mtpl.pyplot.ylabel('Metric Tones')\n",
        "mtpl.pyplot.grid(True)\n",
        "x = [1960, 1965, 1970,1975,1980,1985,1990,1995,2000,2005,2010,2015,2020]\n",
        "mtpl.pyplot.xticks(x,x)"
      ]
    },
    {
      "cell_type": "code",
      "source": [
        "consumption_time = consumption[['Year', 'Fish, Seafood- Food supply quantity (kg/capita/yr) (FAO, 2020)']]\n",
        "\n",
        "df2 = consumption_time.groupby(['Year']).sum()['Fish, Seafood- Food supply quantity (kg/capita/yr) (FAO, 2020)']\n",
        "df2.plot(marker=\"o\")\n",
        "mtpl.pyplot.xticks(rotation=45)\n",
        "mtpl.pyplot.title('Consumption Timeline')\n",
        "mtpl.pyplot.xlabel('Year')\n",
        "mtpl.pyplot.ylabel('kg/capita/year')\n",
        "mtpl.pyplot.grid(True)\n",
        "x = [1960, 1965, 1970,1975,1980,1985,1990,1995,2000,2005,2010,2015,2020]\n",
        "mtpl.pyplot.xticks(x,x)"
      ],
      "metadata": {
        "id": "N8LJLu4CoCs8"
      },
      "execution_count": null,
      "outputs": []
    },
    {
      "cell_type": "code",
      "source": [
        "colors=['#fae588','#f79d65','#f9dc5c','#e8ac65','#e76f51','#ef233c','#b7094c']\n",
        "consumption_Entity = consumption[['Entity','Fish, Seafood- Food supply quantity (kg/capita/yr) (FAO, 2020)']]\n",
        "fig = px.treemap(data_frame=consumption_Entity,path=['Entity'],values='Fish, Seafood- Food supply quantity (kg/capita/yr) (FAO, 2020)',width=800, height=400,hover_data=None)\n",
        "fig.data[0].textinfo = 'label+text+value'\n",
        "fig.update_layout(\n",
        "    treemapcolorway = colors, #defines the colors in the treemap\n",
        "    margin = dict(t=5, l=5, r=5, b=5))"
      ],
      "metadata": {
        "id": "WlE00O_EoIuY"
      },
      "execution_count": null,
      "outputs": []
    },
    {
      "cell_type": "code",
      "source": [
        "colors=['#fae588','#f79d65','#f9dc5c','#e8ac65','#e76f51','#ef233c','#b7094c']\n",
        "consumption_Entity_top20 = consumption[['Entity','Fish, Seafood- Food supply quantity (kg/capita/yr) (FAO, 2020)']]\n",
        "consumption_Entity_top20 = consumption_Entity_top20.groupby('Entity', as_index=False).agg({'Fish, Seafood- Food supply quantity (kg/capita/yr) (FAO, 2020)':'sum'})\n",
        "consumption_Entity_top20 = consumption_Entity_top20.sort_values('Fish, Seafood- Food supply quantity (kg/capita/yr) (FAO, 2020)',ascending=False).head(20)\n",
        "fig2 = px.treemap(data_frame=consumption_Entity_top20,path=['Entity'],values='Fish, Seafood- Food supply quantity (kg/capita/yr) (FAO, 2020)',width=800, height=400,hover_data=None,hover_name=None)\n",
        "fig2.data[0].textinfo = 'label+text+value'\n",
        "fig2.update_layout(\n",
        "    treemapcolorway = colors, #defines the colors in the treemap\n",
        "    margin = dict(t=5, l=5, r=5, b=5))"
      ],
      "metadata": {
        "id": "VrGbFaAIoKX_"
      },
      "execution_count": null,
      "outputs": []
    },
    {
      "cell_type": "code",
      "source": [
        "colors=['#fae588','#f79d65','#f9dc5c','#e8ac65','#e76f51','#ef233c','#b7094c']\n",
        "consumption_Entity_top20_bar = consumption[['Entity','Fish, Seafood- Food supply quantity (kg/capita/yr) (FAO, 2020)']]\n",
        "consumption_Entity_top20_bar = consumption_Entity_top20_bar.groupby('Entity', as_index=False).agg({'Fish, Seafood- Food supply quantity (kg/capita/yr) (FAO, 2020)':'sum'})\n",
        "consumption_Entity_top20_bar = consumption_Entity_top20_bar.sort_values('Fish, Seafood- Food supply quantity (kg/capita/yr) (FAO, 2020)',ascending=False).head(20)\n",
        "\n",
        "fig3 = sns.barplot(x = consumption_Entity_top20_bar['Fish, Seafood- Food supply quantity (kg/capita/yr) (FAO, 2020)'], y = consumption_Entity_top20_bar['Entity'],palette = \"rocket\")\n",
        "mtpl.pyplot.title('Consumption of Top 20 Countries')\n",
        "mtpl.pyplot.xlabel('kg/capita/yr')\n",
        "mtpl.pyplot.grid(True)\n",
        "\n",
        "#Enabling the display of values per country\n",
        "def show_values_on_bars(axs, h_v=\"v\", space=0.4):\n",
        "    def _show_on_single_plot(ax):\n",
        "        if h_v == \"v\":\n",
        "            for p in ax.patches:\n",
        "                _x = p.get_x() + p.get_width() / 2\n",
        "                _y = p.get_y() + p.get_height()\n",
        "                value = int(p.get_height())\n",
        "                ax.text(_x, _y, value, ha=\"center\")\n",
        "        elif h_v == \"h\":\n",
        "            for p in ax.patches:\n",
        "                _x = p.get_x() + p.get_width() + float(space)\n",
        "                _y = p.get_y() + p.get_height()\n",
        "                value = int(p.get_width())\n",
        "                ax.text(_x, _y, value, ha=\"left\")\n",
        "\n",
        "    if isinstance(axs, np.ndarray):\n",
        "        for idx, ax in np.ndenumerate(axs):\n",
        "            _show_on_single_plot(ax)\n",
        "    else:\n",
        "        _show_on_single_plot(axs)\n",
        "\n",
        "\n",
        "show_values_on_bars(fig3, \"h\", 0.3)"
      ],
      "metadata": {
        "id": "QcUvVN1ioMUi"
      },
      "execution_count": null,
      "outputs": []
    },
    {
      "cell_type": "code",
      "source": [
        "#Grouping the captured/farmed table by entity and year (Production)\n",
        "captured_vs_farmed_TimeGroup = captured_vs_farmed.groupby(['Entity', 'Year'], as_index=False).agg({'Total_Production':'sum'})\n",
        "\n",
        "#Grouping the consumption table by entity and year (Consumption)\n",
        "consumption_TimeGroup = consumption.groupby(['Entity', 'Year'], as_index=False).agg({'Fish, Seafood- Food supply quantity (kg/capita/yr) (FAO, 2020)':'sum'})\n",
        "consumption_TimeGroup = consumption_TimeGroup.rename(columns = {'Fish, Seafood- Food supply quantity (kg/capita/yr) (FAO, 2020)': 'Total_Consumption'})\n",
        "consumption_TimeGroup['Total_Consumption'] = consumption_TimeGroup['Total_Consumption']/1000\n",
        "\n",
        "#Group the population table by Country Name\n",
        "population_data_TimeGroup = population_data.groupby(['Entity', 'Year'], as_index = False).agg({'Population_count':'sum'})\n",
        "population_data_TimeGroup['Year'] = population_data_TimeGroup['Year'].astype(int)\n",
        "\n",
        "#Merging the Population_data with the Consumption_group (TimeGroups)\n",
        "Consumption_population_TimeData = pd.merge(consumption_TimeGroup, population_data_TimeGroup)\n",
        "Consumption_population_TimeData = Consumption_population_TimeData[Consumption_population_TimeData['Total_Consumption'] != 0]\n",
        "Consumption_population_TimeData['Total_consumption (Metric Tones)'] = Consumption_population_TimeData['Total_Consumption'] * Consumption_population_TimeData['Population_count']\n",
        "Consumption_population_TimeData = Consumption_population_TimeData.drop(['Total_Consumption'],axis = 1)\n",
        "Consumption_population_TimeData['Total_consumption (Metric Tones)'] = round(Consumption_population_TimeData['Total_consumption (Metric Tones)'], ndigits=0)\n",
        "\n",
        "#Merging the Consumption data with the captured/Farmed data (\"Production\" data)\n",
        "Cons_Prod_TimeGroup = pd.merge(Consumption_population_TimeData, captured_vs_farmed_TimeGroup)\n",
        "\n",
        "#Creating a difference column which measures the difference between the production and the consumption per country\n",
        "Cons_Prod_TimeGroup['Difference'] = Cons_Prod_TimeGroup['Total_Production'] - Cons_Prod_TimeGroup['Total_consumption (Metric Tones)']\n",
        "Cons_Prod_TimeGroup = Cons_Prod_TimeGroup.rename(columns = {'Total_consumption (Metric Tones)':'Total_Consumption'})\n",
        "\n",
        "\n",
        "#Visualizing and Analyzing the Difference to see if there is a surplus or a deficit in the seafood production in the world\n",
        "df3 = Cons_Prod_TimeGroup.groupby(['Year'], as_index= False).sum()\n",
        "\n",
        "##Plot 1\n",
        "mtpl.pyplot.plot('Year', 'Total_Production', data= df3, marker=\"o\")\n",
        "mtpl.pyplot.plot('Year', 'Total_Consumption', data= df3, marker=\"x\")\n",
        "mtpl.pyplot.plot('Year', 'Difference', data= df3, marker=\"\")\n",
        "mtpl.pyplot.legend()\n",
        "mtpl.pyplot.title('Production vs Consumption Difference')\n",
        "mtpl.pyplot.ylabel('Metric Tones (10^8)')\n",
        "mtpl.pyplot.grid(True)\n",
        "x = [1960, 1965, 1970,1975,1980,1985,1990,1995,2000,2005,2010,2015,2020]\n",
        "mtpl.pyplot.xticks(x,x)\n",
        "\n",
        "\n",
        "##Plot 2\n",
        "df3.plot('Year', 'Population_count')\n",
        "mtpl.pyplot.legend()\n",
        "mtpl.pyplot.title('Population Count Timeline')\n",
        "mtpl.pyplot.grid(True)\n",
        "x = [1960, 1965, 1970,1975,1980,1985,1990,1995,2000,2005,2010,2015,2020]\n",
        "mtpl.pyplot.xticks(x,x)"
      ],
      "metadata": {
        "id": "AFuSd54CoS73"
      },
      "execution_count": null,
      "outputs": []
    },
    {
      "cell_type": "code",
      "source": [
        "df4 = stock.drop(['Code'], axis = 1)\n",
        "df4 = df4.rename(columns = {'Share of fish stocks within biologically sustainable levels (FAO, 2020)' : 'Sustainable',\n",
        "                                                'Share of fish stocks that are overexploited' : 'Overexploited'})\n",
        "#stock_pivoted = stock_pivoted.melt(id_vars= ['Year', 'Entity'], var_name = 'Description', value_name = 'Value')\n",
        "df4 = df4[df4['Entity']=='World']\n",
        "df4 = df4.groupby(['Year'], as_index=False).sum()\n",
        "\n",
        "mtpl.pyplot.plot('Year', 'Sustainable', data= df4, marker=\"o\")\n",
        "mtpl.pyplot.plot('Year', 'Overexploited', data= df4, marker=\"x\")\n",
        "mtpl.pyplot.legend()\n",
        "mtpl.pyplot.title('Sustainable vs Overexploited fish')\n",
        "mtpl.pyplot.ylabel('Value(%)')\n",
        "mtpl.pyplot.grid(True)\n",
        "x = [1975,1980,1985,1990,1995,2000,2005,2010,2015,2017]\n",
        "y = [0,10,20,30,40,50,60,70,80,90,100]\n",
        "mtpl.pyplot.xticks(x,x)\n",
        "mtpl.pyplot.yticks(y,y)"
      ],
      "metadata": {
        "id": "LU5RGA7uoWRA"
      },
      "execution_count": null,
      "outputs": []
    }
  ]
}