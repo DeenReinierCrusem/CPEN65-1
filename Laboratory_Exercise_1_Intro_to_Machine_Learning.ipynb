{
  "nbformat": 4,
  "nbformat_minor": 0,
  "metadata": {
    "colab": {
      "provenance": [],
      "authorship_tag": "ABX9TyPEvvSYeUnducYOYfZ2L+SH",
      "include_colab_link": true
    },
    "kernelspec": {
      "name": "python3",
      "display_name": "Python 3"
    },
    "language_info": {
      "name": "python"
    }
  },
  "cells": [
    {
      "cell_type": "markdown",
      "metadata": {
        "id": "view-in-github",
        "colab_type": "text"
      },
      "source": [
        "<a href=\"https://colab.research.google.com/github/DeenReinierCrusem/CPEN65-1/blob/main/Laboratory_Exercise_1_Intro_to_Machine_Learning.ipynb\" target=\"_parent\"><img src=\"https://colab.research.google.com/assets/colab-badge.svg\" alt=\"Open In Colab\"/></a>"
      ]
    },
    {
      "cell_type": "markdown",
      "source": [
        "## Laboratory Exercise 1: Intro to Machine Learning"
      ],
      "metadata": {
        "id": "QO_3UtT21jRV"
      }
    },
    {
      "cell_type": "code",
      "source": [
        "from sklearn.model_selection import GridSearchCV\n",
        "param_grid = [\n",
        " {'kernel': ['linear'], 'C': [10., 30., 100., 300., 1000., 3000., 10000., 30000.0]},\n",
        " {'kernel': ['rbf'], 'C': [1.0, 3.0, 10., 30., 100., 300., 1000.0],\n",
        " 'gamma': [0.01, 0.03, 0.1, 0.3, 1.0, 3.0]},\n",
        "]\n",
        "svm_reg = SVR()\n",
        "grid_search = GridSearchCV(svm_reg, param_grid, cv=5, scoring='neg_mean_squared_error', verbose=2)\n",
        "grid_search.fit(housing_prepared, housing_labels)\n",
        "GridSearchCV(cv=5, estimator=SVR(),\n",
        " param_grid=[{'C': [10.0, 30.0, 100.0, 300.0, 1000.0, 3000.0,\n",
        " 10000.0, 30000.0],\n",
        " 'kernel': ['linear']},\n",
        " {'C': [1.0, 3.0, 10.0, 30.0, 100.0, 300.0, 1000.0],\n",
        " 'gamma': [0.01, 0.03, 0.1, 0.3, 1.0, 3.0],\n",
        " 'kernel': ['rbf']}],\n",
        " scoring='neg_mean_squared_error', verbose=2)\n",
        "negative_mse = grid_search.best_score_\n",
        "rmse = np.sqrt(-negative_mse)\n",
        "rmse\n",
        "70363.84006944533\n",
        "grid_search.best_params_\n",
        "{'C': 30000.0, 'kernel': 'linear'}"
      ],
      "metadata": {
        "id": "3av5nU8c1eD1"
      },
      "execution_count": null,
      "outputs": []
    },
    {
      "cell_type": "code",
      "source": [
        "from sklearn.model_selection import RandomizedSearchCV\n",
        "from scipy.stats import expon, reciprocal\n",
        "# see https://docs.scipy.org/doc/scipy/reference/stats.html\n",
        "# for `expon()` and `reciprocal()` documentation and more probability distribution functions.\n",
        "# Note: gamma is ignored when kernel is \"linear\"\n",
        "param_distribs = {\n",
        " 'kernel': ['linear', 'rbf'],\n",
        " 'C': reciprocal(20, 200000),\n",
        " 'gamma': expon(scale=1.0),\n",
        "}\n",
        "svm_reg = SVR()\n",
        "rnd_search = RandomizedSearchCV(svm_reg, param_distributions=param_distribs,\n",
        " n_iter=50, cv=5, scoring='neg_mean_squared_error',\n",
        " verbose=2, random_state=42)\n",
        "rnd_search.fit(housing_prepared, housing_labels)\n",
        "RandomizedSearchCV(cv=5, estimator=SVR(), n_iter=50,\n",
        " param_distributions={'C': <scipy.stats._distn_infrastructure.rv_frozen object at 0x7f9bd002c790>,\n",
        " 'gamma': <scipy.stats._distn_infrastructure.rv_frozen object at 0x7f9bd002cb10>,\n",
        " 'kernel': ['linear', 'rbf']},\n",
        " random_state=42, scoring='neg_mean_squared_error',\n",
        " verbose=2)\n",
        "negative_mse = grid_search.best_score_\n",
        "rmse = np.sqrt(-negative_mse)\n",
        "rmse\n",
        "54767.960710084146\n",
        "rnd_search.best_params_\n",
        "{'C': 157055.10989448498, 'gamma': 0.26497040005002437, 'kernel': 'rbf'}\n",
        "expon_distrib = expon(scale=1.)\n",
        "samples = expon_distrib.rvs(10000, random_state=42)\n",
        "plt.figure(figsize=(10, 4))\n",
        "plt.subplot(121)\n",
        "plt.title(\"Exponential distribution (scale=1.0)\")\n",
        "plt.hist(samples, bins=50)\n",
        "plt.subplot(122)\n",
        "plt.title(\"Log of this distribution\")\n",
        "plt.hist(np.log(samples), bins=50)\n",
        "plt.show()\n",
        "\n",
        "reciprocal_distrib = reciprocal(20, 200000)\n",
        "samples = expon_distrib.rvs(10000, random_state=42)\n",
        "plt.figure(figsize=(10, 4))\n",
        "plt.subplot(121)\n",
        "plt.title(\"Exponential distribution (scale=1.0)\")\n",
        "plt.hist(samples, bins=50)\n",
        "plt.subplot(122)\n",
        "plt.title(\"Log of this distribution\")\n",
        "plt.hist(np.log(samples), bins=50)\n",
        "plt.show()"
      ],
      "metadata": {
        "id": "9BaUFwg59pSW"
      },
      "execution_count": null,
      "outputs": []
    },
    {
      "cell_type": "code",
      "source": [
        "from sklearn.base import BaseEstimator, TransformerMixin\n",
        "def indices_of_top_k(arr, k):\n",
        "return np.sort(np.argpartition(np.array(arr), -k)[-k:])\n",
        "class TopFeatureSelector(BaseEstimator, TransformerMixin):\n",
        " def __init__(self, feature_importances, k):\n",
        " self.feature_importances = feature_importances\n",
        " self.k = k\n",
        " def fit(self, X, y=None):\n",
        " self.feature_indices_ = indices_of_top_k(self.feature_importances, self.k)\n",
        " return self\n",
        " def transform(self, X):\n",
        " return X[:, self.feature_indices_]\n",
        "k = 5\n",
        "top_k_feature_indices = indices_of_top_k(feature_importances, k)\n",
        "top_k_feature_indices\n",
        "array([ 0, 1, 7, 9, 12])\n",
        "np.array(attributes)[top_k_feature_indices]\n",
        "array(['longitude', 'latitude', 'median_income', 'pop_per_hhold',\n",
        " 'INLAND'], dtype='<U18')\n",
        "sorted(zip(feature_importances, attributes), reverse=True)[:k]\n",
        "[(0.36615898061813423, 'median_income'),\n",
        " (0.16478099356159054, 'INLAND'),\n",
        " (0.10879295677551575, 'pop_per_hhold'),\n",
        " (0.07334423551601243, 'longitude'),\n",
        " (0.06290907048262032, 'latitude')]\n",
        "[4] Try creating a single pipeline that does the full data preparation plus the final\n",
        "prediction.\n",
        "[5] Automatically explore some preparation options using GridSearchCV.\n",
        "preparation_and_feature_selection_pipeline = Pipeline([\n",
        " ('preparation', full_pipeline),\n",
        " ('feature_selection', TopFeatureSelector(feature_importances, k))\n",
        "])\n",
        "housing_prepared_top_k_features = preparation_and_feature_selection_pipeline.fit_transform(housing)\n",
        "housing_prepared_top_k_features[0:3]\n",
        "array([[-1.15604281, 0.77194962, -0.61493744, -0.08649871, 0. ],\n",
        " [-1.17602483, 0.6596948 , 1.33645936, -0.03353391, 0. ],\n",
        " [ 1.18684903, -1.34218285, -0.5320456 , -0.09240499, 0. ]])\n",
        "housing_prepared[0:3, top_k_feature_indices]\n",
        "array([[-1.15604281, 0.77194962, -0.61493744, -0.08649871, 0. ],\n",
        " [-1.17602483, 0.6596948 , 1.33645936, -0.03353391, 0. ],\n",
        " [ 1.18684903, -1.34218285, -0.5320456 , -0.09240499, 0. ]])"
      ],
      "metadata": {
        "id": "VNuH5OwH9w22"
      },
      "execution_count": null,
      "outputs": []
    },
    {
      "cell_type": "code",
      "source": [
        "prepare_select_and_predict_pipeline = Pipeline([\n",
        " ('preparation', full_pipeline),\n",
        " ('feature_selection', TopFeatureSelector(feature_importances, k)),\n",
        "('svm_reg', SVR(**rnd_search.best_params_))\n",
        "])\n",
        "prepare_select_and_predict_pipeline.fit(housing, housing_labels)\n",
        "Pipeline(steps=[('preparation',\n",
        " ColumnTransformer(transformers=[('num',\n",
        " Pipeline(steps=[('imputer',\n",
        " SimpleImputer(strategy='median')),\n",
        " ('attribs_adder',\n",
        " CombinedAttributesAdder()),\n",
        " ('std_scaler',\n",
        " StandardScaler())]),\n",
        " ['longitude', 'latitude',\n",
        "'housing_median_age',\n",
        "'total_rooms',\n",
        " 'total_bedrooms',\n",
        " 'population', 'households',\n",
        "'median_income']),\n",
        " ('cat', OneHotEncoder(...\n",
        " TopFeatureSelector(feature_importances=array([7.33442355e-02, 6.29090705e-02, 4.11437985e-02,\n",
        "1.46726854e-02,\n",
        " 1.41064835e-02, 1.48742809e-02, 1.42575993e-02, 3.66158981e-01,\n",
        " 5.64191792e-02, 1.08792957e-01, 5.33510773e-02, 1.03114883e-02,\n",
        " 1.64780994e-01, 6.02803867e-05, 1.96041560e-03, 2.85647464e-03]),\n",
        " k=5)),\n",
        " ('svm_reg',\n",
        " SVR(C=157055.10989448498, gamma=0.26497040005002437))])\n",
        "some_data = housing.iloc[:4]\n",
        "some_labels = housing_labels.iloc[:4]\n",
        "print(\"Predictions:\\t\", prepare_select_and_predict_pipeline.predict(some_data))\n",
        "print(\"Labels:\\t\\t\", list(some_labels))\n",
        "Predictions: [203214.28978849 371846.88152572 173295.65441612 47328.3970888 ]\n",
        "Labels: [286600.0, 340600.0, 196900.0, 46300.0]"
      ],
      "metadata": {
        "id": "EmlaAfuf98UV"
      },
      "execution_count": null,
      "outputs": []
    },
    {
      "cell_type": "code",
      "source": [
        "full_pipeline.named_transformers_[\"cat\"].handle_unknown = 'ignore'\n",
        "param_grid = [{\n",
        " 'preparation__num__imputer__strategy': ['mean', 'median', 'most_frequent'],\n",
        "'feature_selection__k': list(range(1, len(feature_importances) + 1))\n",
        "}]\n",
        "grid_search_prep = GridSearchCV(prepare_select_and_predict_pipeline, param_grid, cv=5,\n",
        " scoring='neg_mean_squared_error', verbose=2)\n",
        "grid_search_prep.fit(housing, housing_labels)\n",
        "GridSearchCV(cv=5,\n",
        " estimator=Pipeline(steps=[('preparation',\n",
        " ColumnTransformer(transformers=[('num',\n",
        " Pipeline(steps=[('imputer',\n",
        " SimpleImputer(strategy='median')),\n",
        " ('attribs_adder', CombinedAttributesAdder()),\n",
        "('std_scaler', StandardScaler())]),\n",
        " ['longitude',\n",
        " 'latitude',\n",
        "'housing_median_age',\n",
        "'total_rooms',\n",
        "'total_bedrooms',\n",
        "'population',\n",
        " 'households',\n",
        " 'median_inc...\n",
        " 5.64191792e-02, 1.08792957e-01, 5.33510773e-02, 1.03114883e-02,\n",
        " 1.64780994e-01, 6.02803867e-05, 1.96041560e-03, 2.85647464e-03]),\n",
        " k=5)),\n",
        " ('svm_reg',\n",
        " SVR(C=157055.10989448498,\n",
        " gamma=0.26497040005002437))]),\n",
        " param_grid=[{'feature_selection__k': [1, 2, 3, 4, 5, 6, 7, 8, 9,\n",
        " 10, 11, 12, 13, 14, 15, 16],\n",
        " 'preparation__num__imputer__strategy': ['mean',\n",
        " 'median',\n",
        " 'most_frequent']}],\n",
        " scoring='neg_mean_squared_error', verbose=2)\n",
        "grid_search_prep.best_params_\n",
        "{'feature_selection__k': 15,\n",
        "'preparation__num__imputer__strategy': 'most_frequent'}"
      ],
      "metadata": {
        "id": "15hSpZpw-C8-"
      },
      "execution_count": null,
      "outputs": []
    }
  ]
}