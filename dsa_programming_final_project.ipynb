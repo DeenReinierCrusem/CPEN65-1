{
  "nbformat": 4,
  "nbformat_minor": 0,
  "metadata": {
    "colab": {
      "provenance": [],
      "authorship_tag": "ABX9TyPMV0RNod5w7sqihCMHNhY4",
      "include_colab_link": true
    },
    "kernelspec": {
      "name": "python3",
      "display_name": "Python 3"
    },
    "language_info": {
      "name": "python"
    }
  },
  "cells": [
    {
      "cell_type": "markdown",
      "metadata": {
        "id": "view-in-github",
        "colab_type": "text"
      },
      "source": [
        "<a href=\"https://colab.research.google.com/github/DeenReinierCrusem/CPEN65-1/blob/main/dsa_programming_final_project.ipynb\" target=\"_parent\"><img src=\"https://colab.research.google.com/assets/colab-badge.svg\" alt=\"Open In Colab\"/></a>"
      ]
    },
    {
      "cell_type": "code",
      "execution_count": 4,
      "metadata": {
        "colab": {
          "base_uri": "https://localhost:8080/"
        },
        "id": "CV7GRRMbrl4v",
        "outputId": "549ddd1e-5afc-49f3-d703-5415c1bf9ba4"
      },
      "outputs": [
        {
          "output_type": "stream",
          "name": "stdout",
          "text": [
            "Enter the difficulty level (easy, medium, hard): hard\n",
            "5 * 5 = 25\n",
            "Correct!\n",
            "Quiz complete. You scored 1 out of 1.\n"
          ]
        }
      ],
      "source": [
        "class Node:\n",
        "    def __init__(self, data, next=None):\n",
        "        self.data = data\n",
        "        self.next = next\n",
        "\n",
        "class Quiz:\n",
        "    def __init__(self):\n",
        "        self.easy_questions = None\n",
        "        self.medium_questions = None\n",
        "        self.hard_questions = None\n",
        "\n",
        "    def add_question(self, question, answer, difficulty):\n",
        "        new_node = Node((question, answer))\n",
        "        if difficulty == \"easy\":\n",
        "            new_node.next = self.easy_questions\n",
        "            self.easy_questions = new_node\n",
        "        elif difficulty == \"medium\":\n",
        "            new_node.next = self.medium_questions\n",
        "            self.medium_questions = new_node\n",
        "        elif difficulty == \"hard\":\n",
        "            new_node.next = self.hard_questions\n",
        "            self.hard_questions = new_node\n",
        "\n",
        "    def take_quiz(self, difficulty):\n",
        "        if difficulty == \"easy\":\n",
        "            current = self.easy_questions\n",
        "        elif difficulty == \"medium\":\n",
        "            current = self.medium_questions\n",
        "        elif difficulty == \"hard\":\n",
        "            current = self.hard_questions\n",
        "        else:\n",
        "            print(\"Invalid difficulty level\")\n",
        "            return\n",
        "\n",
        "        score = 0\n",
        "        while current:\n",
        "            question, answer = current.data\n",
        "            user_answer = input(question + \" = \")\n",
        "            if user_answer == str(answer):\n",
        "                score += 1\n",
        "                print(\"Correct!\")\n",
        "            else:\n",
        "                print(\"Incorrect.\")\n",
        "            current = current.next\n",
        "        print(\"Quiz complete. You scored \" + str(score) + \" out of \" + str(self.question_count(difficulty)) + \".\")\n",
        "\n",
        "    def question_count(self, difficulty):\n",
        "        if difficulty == \"easy\":\n",
        "            current = self.easy_questions\n",
        "        elif difficulty == \"medium\":\n",
        "            current = self.medium_questions\n",
        "        elif difficulty == \"hard\":\n",
        "            current = self.hard_questions\n",
        "        else:\n",
        "            return None\n",
        "\n",
        "        count = 0\n",
        "        while current:\n",
        "            count += 1\n",
        "            current = current.next\n",
        "        return count\n",
        "\n",
        "quiz = Quiz()\n",
        "quiz.add_question(\"2 + 2\", 4, \"easy\")\n",
        "quiz.add_question(\"5 - 3\", 2, \"easy\")\n",
        "quiz.add_question(\"10 * 2\", 20, \"medium\")\n",
        "quiz.add_question(\"5 * 5\", 25, \"hard\")\n",
        "difficulty = input(\"Enter the difficulty level (easy, medium, hard): \")\n",
        "quiz.take_quiz(difficulty)"
      ]
    }
  ]
}