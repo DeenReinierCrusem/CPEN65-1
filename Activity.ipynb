{
  "nbformat": 4,
  "nbformat_minor": 0,
  "metadata": {
    "colab": {
      "provenance": [],
      "authorship_tag": "ABX9TyOEaafiysd2pBuCD3qCmX45",
      "include_colab_link": true
    },
    "kernelspec": {
      "name": "python3",
      "display_name": "Python 3"
    },
    "language_info": {
      "name": "python"
    }
  },
  "cells": [
    {
      "cell_type": "markdown",
      "metadata": {
        "id": "view-in-github",
        "colab_type": "text"
      },
      "source": [
        "<a href=\"https://colab.research.google.com/github/DeenReinierCrusem/CPEN65-1/blob/main/Activity.ipynb\" target=\"_parent\"><img src=\"https://colab.research.google.com/assets/colab-badge.svg\" alt=\"Open In Colab\"/></a>"
      ]
    },
    {
      "cell_type": "markdown",
      "source": [
        "##Activity: Area of Circle Calculator"
      ],
      "metadata": {
        "id": "mcu9-wfWB39v"
      }
    },
    {
      "cell_type": "code",
      "source": [
        "class Circle:\n",
        "  def __init__(self,r,pi):\n",
        "    self.r = r\n",
        "    self.pi = pi\n",
        "  def Area(self):\n",
        "    print(self.r,self.pi)\n",
        "class Answer(Circle):\n",
        "  def area(self):\n",
        "    return round((self.pi*(self.r*self.r)),2)\n",
        "\n",
        "ans=Answer(int(input(\"radius=\")),3.14)\n",
        "print(\"FinalAnswer:\",ans.area())"
      ],
      "metadata": {
        "colab": {
          "base_uri": "https://localhost:8080/"
        },
        "id": "KVOvvkm5B6B2",
        "outputId": "80568c05-298c-47dd-94de-2886a2fca2ea"
      },
      "execution_count": 12,
      "outputs": [
        {
          "output_type": "stream",
          "name": "stdout",
          "text": [
            "radius=5\n",
            "FinalAnswer: 78.5\n"
          ]
        }
      ]
    }
  ]
}