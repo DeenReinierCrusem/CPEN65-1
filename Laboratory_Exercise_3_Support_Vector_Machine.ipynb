{
  "nbformat": 4,
  "nbformat_minor": 0,
  "metadata": {
    "colab": {
      "provenance": [],
      "authorship_tag": "ABX9TyM2ZntiraK7PL4lOrcTZGtR",
      "include_colab_link": true
    },
    "kernelspec": {
      "name": "python3",
      "display_name": "Python 3"
    },
    "language_info": {
      "name": "python"
    }
  },
  "cells": [
    {
      "cell_type": "markdown",
      "metadata": {
        "id": "view-in-github",
        "colab_type": "text"
      },
      "source": [
        "<a href=\"https://colab.research.google.com/github/DeenReinierCrusem/CPEN65-1/blob/main/Laboratory_Exercise_3_Support_Vector_Machine.ipynb\" target=\"_parent\"><img src=\"https://colab.research.google.com/assets/colab-badge.svg\" alt=\"Open In Colab\"/></a>"
      ]
    },
    {
      "cell_type": "markdown",
      "source": [
        "##Laboratory Exercise 3: Support Vector Machine\n"
      ],
      "metadata": {
        "id": "rDt5M9H9TBb8"
      }
    },
    {
      "cell_type": "code",
      "execution_count": null,
      "metadata": {
        "id": "eQ7TEJgWR3-U"
      },
      "outputs": [],
      "source": [
        "from sklearn import datasets\n",
        "iris = datasets.load_iris()\n",
        "X = iris[\"data\"][:, (2, 3)] # petal length, petal width\n",
        "y = iris[\"target\"]\n",
        "setosa_or_versicolor = (y == 0) | (y == 1)\n",
        "X = X[setosa_or_versicolor]\n",
        "y = y[setosa_or_versicolor]\n",
        "In [45]:\n",
        "from sklearn.svm import SVC, LinearSVC\n",
        "from sklearn.linear_model import SGDClassifier\n",
        "from sklearn.preprocessing import StandardScaler\n",
        "C = 5\n",
        "alpha = 1 / (C * len(X))\n",
        "lin_clf = LinearSVC(loss=\"hinge\", C=C, random_state=42)\n",
        "svm_clf = SVC(kernel=\"linear\", C=C)\n",
        "sgd_clf = SGDClassifier(loss=\"hinge\", learning_rate=\"constant\",\n",
        "eta0=0.001, alpha=alpha,\n",
        " max_iter=1000, tol=1e-3, random_state=42)\n",
        "scaler = StandardScaler()\n",
        "X_scaled = scaler.fit_transform(X)\n",
        "lin_clf.fit(X_scaled, y)\n",
        "svm_clf.fit(X_scaled, y)\n",
        "sgd_clf.fit(X_scaled, y)\n",
        "print(\"LinearSVC: \", lin_clf.intercept_,\n",
        "lin_clf.coef_)\n",
        "print(\"SVC: \", svm_clf.intercept_,\n",
        "svm_clf.coef_)\n",
        "print(\"SGDClassifier(alpha={:.5f}):\".format(sgd_clf.alpha),\n",
        "sgd_clf.intercept_, sgd_clf.coef_)\n",
        "LinearSVC: [0.28475098] [[1.05364854 1.09903804]\n",
        "]\n",
        "SVC: [0.31896852] [[1.1203284 1.02625193]\n",
        "]\n",
        "SGDClassifier(alpha=0.00200): [0.117] [[0.77714169 0.72981762]]\n",
        "w1 = -lin_clf.coef_[0, 0]/lin_clf.coef_[0, 1]\n",
        "b1 = -lin_clf.intercept_[0]/lin_clf.coef_[0, 1]\n",
        "w2 = -svm_clf.coef_[0, 0]/svm_clf.coef_[0, 1]\n",
        "b2 = -svm_clf.intercept_[0]/svm_clf.coef_[0, 1]\n",
        "w3 = -sgd_clf.coef_[0, 0]/sgd_clf.coef_[0, 1]\n",
        "b3 = -sgd_clf.intercept_[0]/sgd_clf.coef_[0, 1]\n",
        "# Transform the decision boundary lines back to the original scale\n",
        "line1 = scaler.inverse_transform([[-10, -10 * w1 + b1], [10, 10 *\n",
        "w1 + b1]])\n",
        "line2 = scaler.inverse_transform([[-10, -10 * w2 + b2], [10, 10 *\n",
        "w2 + b2]])\n",
        "line3 = scaler.inverse_transform([[-10, -10 * w3 + b3], [10, 10 *\n",
        "w3 + b3]])\n",
        "# Plot all three decision boundaries\n",
        "plt.figure(figsize=(11, 4))\n",
        "plt.plot(line1[:, 0], line1[:, 1], \"k:\", label=\"LinearSVC\")\n",
        "plt.plot(line2[:, 0], line2[:, 1], \"b--\", linewidth=2, label=\"SVC\")\n",
        "plt.plot(line3[:, 0], line3[:, 1], \"r-\", label=\"SGDClassifier\")\n",
        "plt.plot(X[:, 0][y==1], X[:, 1][y==1], \"bs\") # label=\"Iris\n",
        "versicolor\"\n",
        "plt.plot(X[:, 0][y==0], X[:, 1][y==0], \"yo\") # label=\"Iris setosa\"\n",
        "plt.xlabel(\"Petal length\", fontsize=14)\n",
        "plt.ylabel(\"Petal width\", fontsize=14)\n",
        "plt.legend(loc=\"upper center\", fontsize=14)\n",
        "plt.axis([0, 5.5, 0, 2])\n",
        "plt.show()\n"
      ]
    },
    {
      "cell_type": "code",
      "source": [
        "from sklearn.datasets import fetch_openml\n",
        "mnist = fetch_openml('mnist_784', version=1, cache=True,\n",
        "as_frame=False)\n",
        "X = mnist[\"data\"]\n",
        "y = mnist[\"target\"].astype(np.uint8)\n",
        "X_train = X[:60000]\n",
        "y_train = y[:60000]\n",
        "X_test = X[60000:]\n",
        "y_test = y[60000:]\n",
        "lin_clf = LinearSVC(random_state=42)\n",
        "lin_clf.fit(X_train, y_train)\n",
        "from sklearn.metrics import accuracy_score\n",
        "y_pred = lin_clf.predict(X_train)\n",
        "accuracy_score(y_train, y_pred)\n"
      ],
      "metadata": {
        "id": "m008J5XpTTDP"
      },
      "execution_count": null,
      "outputs": []
    },
    {
      "cell_type": "code",
      "source": [
        "from sklearn.metrics import mean_squared_error\n",
        "y_pred = lin_svr.predict(X_train_scaled)\n",
        "mse = mean_squared_error(y_train, y_pred)\n",
        "mse\n",
        "0.9641780189948642\n",
        "np.sqrt(mse)\n",
        "0.9819256687727764\n",
        "from sklearn.svm import SVR\n",
        "from sklearn.model_selection import RandomizedSearchCV\n",
        "from scipy.stats import reciprocal, uniform\n",
        "param_distributions = {\"gamma\": reciprocal(0.001, 0.1), \"C\":\n",
        "uniform(1, 10)}\n",
        "rnd_search_cv = RandomizedSearchCV(SVR(), param_distributions,\n",
        "n_iter=10, verbose=2, cv=3, random_state=42)\n",
        "rnd_search_cv.fit(X_train_scaled, y_train)\n",
        "from sklearn.metrics import mean_squared_error\n",
        "y_pred = lin_svr.predict(X_train_scaled)\n",
        "mse = mean_squared_error(y_train, y_pred)\n",
        "mse\n"
      ],
      "metadata": {
        "id": "BFAIJqpMTiDH"
      },
      "execution_count": null,
      "outputs": []
    }
  ]
}