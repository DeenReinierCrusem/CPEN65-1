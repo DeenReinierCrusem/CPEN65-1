{
  "nbformat": 4,
  "nbformat_minor": 0,
  "metadata": {
    "colab": {
      "provenance": [],
      "authorship_tag": "ABX9TyMaMrYbjJ0Z/gqYcXYlj/Aa",
      "include_colab_link": true
    },
    "kernelspec": {
      "name": "python3",
      "display_name": "Python 3"
    },
    "language_info": {
      "name": "python"
    }
  },
  "cells": [
    {
      "cell_type": "markdown",
      "metadata": {
        "id": "view-in-github",
        "colab_type": "text"
      },
      "source": [
        "<a href=\"https://colab.research.google.com/github/DeenReinierCrusem/CPEN65-1/blob/main/Exercise.ipynb\" target=\"_parent\"><img src=\"https://colab.research.google.com/assets/colab-badge.svg\" alt=\"Open In Colab\"/></a>"
      ]
    },
    {
      "cell_type": "markdown",
      "source": [
        "Exercise: Create a Phyton program that uses Array. Insert each character of your full name and display each character of your full name in revered order"
      ],
      "metadata": {
        "id": "US5rpMTwcmeQ"
      }
    },
    {
      "cell_type": "code",
      "source": [
        "FullName=[\"D\",\"e\",\"e\",\"n\",\"R\",\"e\",\"i\",\"n\",\"i\",\"e\",\"r\",\"B\",\"a\",\"u\",\"t\",\"i\",\"s\",\"t\",\"a\",\"C\",\"r\",\"u\",\"s\",\"e\",\"m\"]\n",
        "print(\"Proper Order:\",FullName)\n",
        "opposite=list(reversed(FullName))\n",
        "print(\"Reversed Order:\",opposite)"
      ],
      "metadata": {
        "colab": {
          "base_uri": "https://localhost:8080/"
        },
        "id": "dnwpGREScoqn",
        "outputId": "d00d44f2-bcac-4bbe-cc3d-5acbfde74661"
      },
      "execution_count": 2,
      "outputs": [
        {
          "output_type": "stream",
          "name": "stdout",
          "text": [
            "Proper Order: ['D', 'e', 'e', 'n', 'R', 'e', 'i', 'n', 'i', 'e', 'r', 'B', 'a', 'u', 't', 'i', 's', 't', 'a', 'C', 'r', 'u', 's', 'e', 'm']\n",
            "Reversed Order: ['m', 'e', 's', 'u', 'r', 'C', 'a', 't', 's', 'i', 't', 'u', 'a', 'B', 'r', 'e', 'i', 'n', 'i', 'e', 'R', 'n', 'e', 'e', 'D']\n"
          ]
        }
      ]
    }
  ]
}